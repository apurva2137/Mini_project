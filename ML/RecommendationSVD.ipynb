{
 "cells": [
  {
   "cell_type": "markdown",
   "id": "0efdea92-7870-47ea-b578-5c19a947273a",
   "metadata": {},
   "source": [
    "Recommendation Using Truncated SVD"
   ]
  },
  {
   "cell_type": "code",
   "execution_count": 2,
   "id": "40b462c2-6294-4630-aa69-a03ff8fd48ae",
   "metadata": {},
   "outputs": [],
   "source": [
    "import pandas as pd"
   ]
  },
  {
   "cell_type": "code",
   "execution_count": 33,
   "id": "afd59865-398f-4078-aab8-6cb6045b6425",
   "metadata": {},
   "outputs": [],
   "source": [
    "df_svd=pd.read_csv('data_ML2.csv')"
   ]
  },
  {
   "cell_type": "code",
   "execution_count": 34,
   "id": "c49929c5-fc29-4b37-b663-75c913b13a7f",
   "metadata": {},
   "outputs": [
    {
     "data": {
      "text/plain": [
       "(200, 16)"
      ]
     },
     "execution_count": 34,
     "metadata": {},
     "output_type": "execute_result"
    }
   ],
   "source": [
    "df_svd.shape"
   ]
  },
  {
   "cell_type": "code",
   "execution_count": 35,
   "id": "b9570305-82bb-488a-94f5-80c08a3404f5",
   "metadata": {},
   "outputs": [],
   "source": [
    "from sklearn.decomposition import TruncatedSVD\n",
    "from sklearn.metrics.pairwise import cosine_similarity\n",
    "\n",
    "# Create a user-item matrix (User_ID x Dish_Name)\n",
    "user_item_matrix = df_svd.pivot_table(index='User_ID', columns='Dish_Name', values='Order_Price').fillna(0)"
   ]
  },
  {
   "cell_type": "code",
   "execution_count": 36,
   "id": "e73b00db-f338-4e0e-bc74-685eada64fd7",
   "metadata": {},
   "outputs": [],
   "source": [
    "# Apply SVD (Singular Value Decomposition)\n",
    "svd = TruncatedSVD(n_components=26, random_state=42)\n",
    "latent_matrix = svd.fit_transform(user_item_matrix)\n",
    "\n",
    "# Calculate cosine similarities between dishes\n",
    "dish_similarity = cosine_similarity(latent_matrix.T)\n",
    "dish_similarity_df = pd.DataFrame(dish_similarity, index=user_item_matrix.columns, columns=user_item_matrix.columns)"
   ]
  },
  {
   "cell_type": "code",
   "execution_count": 39,
   "id": "5514a96d-ba80-446f-902b-93898b2515ea",
   "metadata": {},
   "outputs": [
    {
     "name": "stdin",
     "output_type": "stream",
     "text": [
      "Enter the dish name:  Matar Paneer\n",
      "Enter user preferences:  Vegetarian\n",
      "Enter ingredients to exclude (comma-separated):  Potatoes\n"
     ]
    },
    {
     "name": "stdout",
     "output_type": "stream",
     "text": [
      "  Recommended Dishes\n",
      "0     Sarson Ka Saag\n",
      "1              Kadhi\n",
      "2     Haldi Ki Sabzi\n",
      "3       Palak Paneer\n",
      "4              Pulao\n"
     ]
    }
   ],
   "source": [
    "def recommend_dishes(dish_name, user_preferences=None, season=None, excluded_ingredients=None, num_recommendations=5):\n",
    "    # Start with the full dish similarity dataframe\n",
    "    filtered_dishes = dish_similarity_df.copy()\n",
    "\n",
    "    if user_preferences:\n",
    "        preferred_dishes = df_svd[df_svd['User_Preferences'] == user_preferences]['Dish_Name'].unique()\n",
    "        preferred_dishes = [dish for dish in preferred_dishes if dish in filtered_dishes.index]\n",
    "        filtered_dishes = filtered_dishes.loc[preferred_dishes, preferred_dishes]\n",
    "\n",
    "    if season:\n",
    "        seasonal_dishes = df_svd[df_svd['Season'] == season]['Dish_Name'].unique()\n",
    "        seasonal_dishes = [dish for dish in seasonal_dishes if dish in filtered_dishes.index]\n",
    "        filtered_dishes = filtered_dishes.loc[seasonal_dishes, seasonal_dishes]\n",
    "\n",
    "    if excluded_ingredients:\n",
    "        excluded_ingredient_set = set(excluded_ingredients)\n",
    "        ingredient_filtered_dishes = df_svd[~df_svd['Ingredients_List'].apply(lambda x: excluded_ingredient_set.intersection(set(x.split(', '))) != set())]['Dish_Name'].unique()\n",
    "        ingredient_filtered_dishes = [dish for dish in ingredient_filtered_dishes if dish in filtered_dishes.index]\n",
    "        filtered_dishes = filtered_dishes.loc[ingredient_filtered_dishes, ingredient_filtered_dishes]\n",
    "\n",
    "    if dish_name not in filtered_dishes.index:\n",
    "        return f\"Dish '{dish_name}' not found in the filtered list.\"\n",
    "\n",
    "    # Sorting dishes based on similarity and returning the top recommendations\n",
    "    similar_dishes = filtered_dishes[dish_name].sort_values(ascending=False)[1:num_recommendations + 1]\n",
    "    \n",
    "    return similar_dishes\n",
    "\n",
    "dish = input(\"Enter the dish name: \")\n",
    "user_pref = input(\"Enter user preferences: \")\n",
    "excluded_ingredients = input(\"Enter ingredients to exclude (comma-separated): \").split(',')\n",
    "\n",
    "recommendations = recommend_dishes(dish, user_pref, excluded_ingredients=excluded_ingredients, num_recommendations=5)\n",
    "\n",
    "if not recommendations.empty:\n",
    "    dish_names = recommendations.index\n",
    "    dishes = pd.DataFrame({\"Recommended Dishes\": dish_names})\n",
    "else:\n",
    "    dishes = pd.DataFrame({\"Recommended Dishes\": []})  # Create an empty DataFrame if no recommendations\n",
    "\n",
    "print(dishes)\n"
   ]
  },
  {
   "cell_type": "code",
   "execution_count": null,
   "id": "ac981e1d-d743-4a62-94e5-9c51f273a6de",
   "metadata": {},
   "outputs": [],
   "source": []
  }
 ],
 "metadata": {
  "kernelspec": {
   "display_name": "Python 3 (ipykernel)",
   "language": "python",
   "name": "python3"
  },
  "language_info": {
   "codemirror_mode": {
    "name": "ipython",
    "version": 3
   },
   "file_extension": ".py",
   "mimetype": "text/x-python",
   "name": "python",
   "nbconvert_exporter": "python",
   "pygments_lexer": "ipython3",
   "version": "3.11.4"
  }
 },
 "nbformat": 4,
 "nbformat_minor": 5
}
